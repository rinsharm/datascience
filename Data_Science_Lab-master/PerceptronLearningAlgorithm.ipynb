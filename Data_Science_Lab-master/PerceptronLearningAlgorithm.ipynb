{
  "nbformat": 4,
  "nbformat_minor": 0,
  "metadata": {
    "colab": {
      "provenance": [],
      "authorship_tag": "ABX9TyP7aacX0gstivE3TxsxQbyJ",
      "include_colab_link": true
    },
    "kernelspec": {
      "name": "python3",
      "display_name": "Python 3"
    },
    "language_info": {
      "name": "python"
    }
  },
  "cells": [
    {
      "cell_type": "markdown",
      "metadata": {
        "id": "view-in-github",
        "colab_type": "text"
      },
      "source": [
        "<a href=\"https://colab.research.google.com/github/raichalvarghese/Data_Science_Lab/blob/master/PerceptronLearningAlgorithm.ipynb\" target=\"_parent\"><img src=\"https://colab.research.google.com/assets/colab-badge.svg\" alt=\"Open In Colab\"/></a>"
      ]
    },
    {
      "cell_type": "code",
      "execution_count": null,
      "metadata": {
        "id": "oGcea-9x38xL"
      },
      "outputs": [],
      "source": [
        "#Perceptron Learning Algorithm"
      ]
    },
    {
      "cell_type": "code",
      "source": [
        "\n",
        "  x1=[0,0,1,1] \n",
        "  x2=[1,0,1,0] \n",
        "  w1=float(input(\"Enter the weight1\"))\n",
        "  w2=float(input(\"enter the weight2\")) \n",
        "  n=float(input(\"Enter the value of eta\")) \n",
        "  t=int(input(\"enter the threshold\")) \n",
        "  for i in range(0,len(x1)): \n",
        "    tar=int(x1[i] and x2[i]) \n",
        "    if(w1*x1[i]+w2*x2[i]>t):\n",
        "      b=0\n",
        "    else:\n",
        "      b=1\n",
        "    if(tar!=b):\n",
        "        w1=w1+n*(tar-b)*x1[i]\n",
        "        w2=w2+n*(tar-b)*x2[i]\n",
        "\n",
        "print(\"w1=\",w1)\n",
        "print(\"w2=\",w2)"
      ],
      "metadata": {
        "colab": {
          "base_uri": "https://localhost:8080/"
        },
        "id": "ODApxlAU4ZLM",
        "outputId": "8c176886-abde-4589-be9b-aca85e7baf2a"
      },
      "execution_count": null,
      "outputs": [
        {
          "output_type": "stream",
          "name": "stdout",
          "text": [
            "Enter the weight11\n",
            "enter the weight20.5\n",
            "Enter the value of eta0.5\n",
            "enter the threshold1\n",
            "w1= 0.5\n",
            "w2= 0.0\n"
          ]
        }
      ]
    },
    {
      "cell_type": "code",
      "source": [
        "X=[[0,0],\n",
        "   [0,1],\n",
        "   [1,0],\n",
        "   [1,1]]\n",
        "\n",
        "y=[0,0,0,1]\n",
        "\n",
        "w=[1.2,0.6]\n",
        "lr=0.5\n",
        "iter=4\n",
        "\n",
        "def AND(a,b):\n",
        "  if a==1 and b==1:\n",
        "    return 1\n",
        "  else:\n",
        "    return 0\n",
        "\n",
        "y_predicted = 0\n",
        "\n",
        "for i in range(iter):\n",
        "  for x in X:\n",
        "    out = x[0]*w[0] + x[1]*w[1]\n",
        "    if out<1:\n",
        "      y_predicted=0\n",
        "    else:\n",
        "      y_predicted=1\n",
        "    y_idx = AND(x[0],x[1])\n",
        "    if y_predicted!=y_idx:\n",
        "     update = lr * (y_idx-y_predicted)\n",
        "     w[0] += update*x[0]\n",
        "     w[1] += update*x[1]\n",
        "print(w)"
      ],
      "metadata": {
        "colab": {
          "base_uri": "https://localhost:8080/"
        },
        "id": "kaV4B59F52z_",
        "outputId": "9db80b99-1b8c-4ff8-9abf-56015062cd1c"
      },
      "execution_count": null,
      "outputs": [
        {
          "output_type": "stream",
          "name": "stdout",
          "text": [
            "[0.7, 0.6]\n"
          ]
        }
      ]
    }
  ]
}